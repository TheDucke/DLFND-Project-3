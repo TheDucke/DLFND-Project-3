{
 "cells": [
  {
   "cell_type": "markdown",
   "metadata": {
    "deletable": true,
    "editable": true
   },
   "source": [
    "# TV Script Generation\n",
    "In this project, you'll generate your own [Simpsons](https://en.wikipedia.org/wiki/The_Simpsons) TV scripts using RNNs.  You'll be using part of the [Simpsons dataset](https://www.kaggle.com/wcukierski/the-simpsons-by-the-data) of scripts from 27 seasons.  The Neural Network you'll build will generate a new TV script for a scene at [Moe's Tavern](https://simpsonswiki.com/wiki/Moe's_Tavern).\n",
    "## Get the Data\n",
    "The data is already provided for you.  You'll be using a subset of the original dataset.  It consists of only the scenes in Moe's Tavern.  This doesn't include other versions of the tavern, like \"Moe's Cavern\", \"Flaming Moe's\", \"Uncle Moe's Family Feed-Bag\", etc.."
   ]
  },
  {
   "cell_type": "code",
   "execution_count": 1,
   "metadata": {
    "collapsed": false,
    "deletable": true,
    "editable": true
   },
   "outputs": [],
   "source": [
    "\"\"\"\n",
    "DON'T MODIFY ANYTHING IN THIS CELL\n",
    "\"\"\"\n",
    "import helper\n",
    "\n",
    "data_dir = './data/simpsons/moes_tavern_lines.txt'\n",
    "text = helper.load_data(data_dir)\n",
    "# Ignore notice, since we don't use it for analysing the data\n",
    "text = text[81:]"
   ]
  },
  {
   "cell_type": "markdown",
   "metadata": {
    "deletable": true,
    "editable": true
   },
   "source": [
    "## Explore the Data\n",
    "Play around with `view_sentence_range` to view different parts of the data."
   ]
  },
  {
   "cell_type": "code",
   "execution_count": 2,
   "metadata": {
    "collapsed": false,
    "deletable": true,
    "editable": true
   },
   "outputs": [
    {
     "name": "stdout",
     "output_type": "stream",
     "text": [
      "Dataset Stats\n",
      "Roughly the number of unique words: 11492\n",
      "Number of scenes: 262\n",
      "Average number of sentences in each scene: 15.251908396946565\n",
      "Number of lines: 4258\n",
      "Average number of words in each line: 11.50164396430249\n",
      "\n",
      "The sentences 0 to 10:\n",
      "\n",
      "Moe_Szyslak: (INTO PHONE) Moe's Tavern. Where the elite meet to drink.\n",
      "Bart_Simpson: Eh, yeah, hello, is Mike there? Last name, Rotch.\n",
      "Moe_Szyslak: (INTO PHONE) Hold on, I'll check. (TO BARFLIES) Mike Rotch. Mike Rotch. Hey, has anybody seen Mike Rotch, lately?\n",
      "Moe_Szyslak: (INTO PHONE) Listen you little puke. One of these days I'm gonna catch you, and I'm gonna carve my name on your back with an ice pick.\n",
      "Moe_Szyslak: What's the matter Homer? You're not your normal effervescent self.\n",
      "Homer_Simpson: I got my problems, Moe. Give me another one.\n",
      "Moe_Szyslak: Homer, hey, you should not drink to forget your problems.\n",
      "Barney_Gumble: Yeah, you should only drink to enhance your social skills.\n",
      "\n"
     ]
    }
   ],
   "source": [
    "view_sentence_range = (0, 10)\n",
    "\n",
    "\"\"\"\n",
    "DON'T MODIFY ANYTHING IN THIS CELL\n",
    "\"\"\"\n",
    "import numpy as np\n",
    "\n",
    "print('Dataset Stats')\n",
    "print('Roughly the number of unique words: {}'.format(len({word: None for word in text.split()})))\n",
    "scenes = text.split('\\n\\n')\n",
    "print('Number of scenes: {}'.format(len(scenes)))\n",
    "sentence_count_scene = [scene.count('\\n') for scene in scenes]\n",
    "print('Average number of sentences in each scene: {}'.format(np.average(sentence_count_scene)))\n",
    "\n",
    "sentences = [sentence for scene in scenes for sentence in scene.split('\\n')]\n",
    "print('Number of lines: {}'.format(len(sentences)))\n",
    "word_count_sentence = [len(sentence.split()) for sentence in sentences]\n",
    "print('Average number of words in each line: {}'.format(np.average(word_count_sentence)))\n",
    "\n",
    "print()\n",
    "print('The sentences {} to {}:'.format(*view_sentence_range))\n",
    "print('\\n'.join(text.split('\\n')[view_sentence_range[0]:view_sentence_range[1]]))"
   ]
  },
  {
   "cell_type": "markdown",
   "metadata": {
    "deletable": true,
    "editable": true
   },
   "source": [
    "## Implement Preprocessing Functions\n",
    "The first thing to do to any dataset is preprocessing.  Implement the following preprocessing functions below:\n",
    "- Lookup Table\n",
    "- Tokenize Punctuation\n",
    "\n",
    "### Lookup Table\n",
    "To create a word embedding, you first need to transform the words to ids.  In this function, create two dictionaries:\n",
    "- Dictionary to go from the words to an id, we'll call `vocab_to_int`\n",
    "- Dictionary to go from the id to word, we'll call `int_to_vocab`\n",
    "\n",
    "Return these dictionaries in the following tuple `(vocab_to_int, int_to_vocab)`"
   ]
  },
  {
   "cell_type": "code",
   "execution_count": 11,
   "metadata": {
    "collapsed": false,
    "deletable": true,
    "editable": true
   },
   "outputs": [
    {
     "name": "stdout",
     "output_type": "stream",
     "text": [
      "Tests Passed\n"
     ]
    }
   ],
   "source": [
    "import numpy as np\n",
    "import problem_unittests as tests\n",
    "from collections import Counter\n",
    "\n",
    "def create_lookup_tables(text):\n",
    "    \"\"\"\n",
    "    Create lookup tables for vocabulary\n",
    "    :param text: The text of tv scripts split into words\n",
    "    :return: A tuple of dicts (vocab_to_int, int_to_vocab)\n",
    "    \"\"\"\n",
    "    word_counts = Counter(text)\n",
    "    sorted_vocab = sorted(word_counts, key=word_counts.get, reverse = True)\n",
    "    int_to_vocab = {ii : word for ii, word in enumerate(sorted_vocab)}\n",
    "    vocab_to_int = {word: ii for ii, word in int_to_vocab.items()}\n",
    "    \n",
    "    return vocab_to_int, int_to_vocab\n",
    "\n",
    "\n",
    "\"\"\"\n",
    "DON'T MODIFY ANYTHING IN THIS CELL THAT IS BELOW THIS LINE\n",
    "\"\"\"\n",
    "tests.test_create_lookup_tables(create_lookup_tables)"
   ]
  },
  {
   "cell_type": "markdown",
   "metadata": {
    "deletable": true,
    "editable": true
   },
   "source": [
    "### Tokenize Punctuation\n",
    "We'll be splitting the script into a word array using spaces as delimiters.  However, punctuations like periods and exclamation marks make it hard for the neural network to distinguish between the word \"bye\" and \"bye!\".\n",
    "\n",
    "Implement the function `token_lookup` to return a dict that will be used to tokenize symbols like \"!\" into \"||Exclamation_Mark||\".  Create a dictionary for the following symbols where the symbol is the key and value is the token:\n",
    "- Period ( . )\n",
    "- Comma ( , )\n",
    "- Quotation Mark ( \" )\n",
    "- Semicolon ( ; )\n",
    "- Exclamation mark ( ! )\n",
    "- Question mark ( ? )\n",
    "- Left Parentheses ( ( )\n",
    "- Right Parentheses ( ) )\n",
    "- Dash ( -- )\n",
    "- Return ( \\n )\n",
    "\n",
    "This dictionary will be used to token the symbols and add the delimiter (space) around it.  This separates the symbols as it's own word, making it easier for the neural network to predict on the next word. Make sure you don't use a token that could be confused as a word. Instead of using the token \"dash\", try using something like \"||dash||\"."
   ]
  },
  {
   "cell_type": "code",
   "execution_count": 14,
   "metadata": {
    "collapsed": false,
    "deletable": true,
    "editable": true
   },
   "outputs": [
    {
     "name": "stdout",
     "output_type": "stream",
     "text": [
      "Tests Passed\n"
     ]
    }
   ],
   "source": [
    "def token_lookup():\n",
    "    \"\"\"\n",
    "    Generate a dict to turn punctuation into a token.\n",
    "    :return: Tokenize dictionary where the key is the punctuation and the value is the token\n",
    "    \"\"\"\n",
    "    d = {\n",
    "        '.':'||period||',\n",
    "        ',':'||comma||',\n",
    "        '\"':'||quotation||',\n",
    "        ';':'||semicolon||',\n",
    "        '!':'||exclamation||',\n",
    "        '?':'||question||',\n",
    "        '(':'||left_parentheses||',\n",
    "        ')':'||right_parentheses||',\n",
    "        '--':'||dash||',\n",
    "        '\\n':'||carriage_return||',\n",
    "    }\n",
    "    \n",
    "    return d\n",
    "\n",
    "\"\"\"\n",
    "DON'T MODIFY ANYTHING IN THIS CELL THAT IS BELOW THIS LINE\n",
    "\"\"\"\n",
    "tests.test_tokenize(token_lookup)"
   ]
  },
  {
   "cell_type": "markdown",
   "metadata": {
    "deletable": true,
    "editable": true
   },
   "source": [
    "## Preprocess all the data and save it\n",
    "Running the code cell below will preprocess all the data and save it to file."
   ]
  },
  {
   "cell_type": "code",
   "execution_count": 15,
   "metadata": {
    "collapsed": false,
    "deletable": true,
    "editable": true
   },
   "outputs": [],
   "source": [
    "\"\"\"\n",
    "DON'T MODIFY ANYTHING IN THIS CELL\n",
    "\"\"\"\n",
    "# Preprocess Training, Validation, and Testing Data\n",
    "helper.preprocess_and_save_data(data_dir, token_lookup, create_lookup_tables)"
   ]
  },
  {
   "cell_type": "markdown",
   "metadata": {
    "deletable": true,
    "editable": true
   },
   "source": [
    "# Check Point\n",
    "This is your first checkpoint. If you ever decide to come back to this notebook or have to restart the notebook, you can start from here. The preprocessed data has been saved to disk."
   ]
  },
  {
   "cell_type": "code",
   "execution_count": 16,
   "metadata": {
    "collapsed": false,
    "deletable": true,
    "editable": true
   },
   "outputs": [],
   "source": [
    "\"\"\"\n",
    "DON'T MODIFY ANYTHING IN THIS CELL\n",
    "\"\"\"\n",
    "import helper\n",
    "import numpy as np\n",
    "import problem_unittests as tests\n",
    "\n",
    "int_text, vocab_to_int, int_to_vocab, token_dict = helper.load_preprocess()"
   ]
  },
  {
   "cell_type": "markdown",
   "metadata": {
    "deletable": true,
    "editable": true
   },
   "source": [
    "## Build the Neural Network\n",
    "You'll build the components necessary to build a RNN by implementing the following functions below:\n",
    "- get_inputs\n",
    "- get_init_cell\n",
    "- get_embed\n",
    "- build_rnn\n",
    "- build_nn\n",
    "- get_batches\n",
    "\n",
    "### Check the Version of TensorFlow and Access to GPU"
   ]
  },
  {
   "cell_type": "code",
   "execution_count": 17,
   "metadata": {
    "collapsed": false
   },
   "outputs": [
    {
     "name": "stdout",
     "output_type": "stream",
     "text": [
      "TensorFlow Version: 1.0.0\n",
      "Default GPU Device: /gpu:0\n"
     ]
    }
   ],
   "source": [
    "\"\"\"\n",
    "DON'T MODIFY ANYTHING IN THIS CELL\n",
    "\"\"\"\n",
    "from distutils.version import LooseVersion\n",
    "import warnings\n",
    "import tensorflow as tf\n",
    "\n",
    "# Check TensorFlow Version\n",
    "assert LooseVersion(tf.__version__) >= LooseVersion('1.0'), 'Please use TensorFlow version 1.0 or newer'\n",
    "print('TensorFlow Version: {}'.format(tf.__version__))\n",
    "\n",
    "# Check for a GPU\n",
    "if not tf.test.gpu_device_name():\n",
    "    warnings.warn('No GPU found. Please use a GPU to train your neural network.')\n",
    "else:\n",
    "    print('Default GPU Device: {}'.format(tf.test.gpu_device_name()))"
   ]
  },
  {
   "cell_type": "markdown",
   "metadata": {},
   "source": [
    "### Input\n",
    "Implement the `get_inputs()` function to create TF Placeholders for the Neural Network.  It should create the following placeholders:\n",
    "- Input text placeholder named \"input\" using the [TF Placeholder](https://www.tensorflow.org/api_docs/python/tf/placeholder) `name` parameter.\n",
    "- Targets placeholder\n",
    "- Learning Rate placeholder\n",
    "\n",
    "Return the placeholders in the following the tuple `(Input, Targets, LearingRate)`"
   ]
  },
  {
   "cell_type": "code",
   "execution_count": 20,
   "metadata": {
    "collapsed": false,
    "deletable": true,
    "editable": true
   },
   "outputs": [
    {
     "name": "stdout",
     "output_type": "stream",
     "text": [
      "Tests Passed\n"
     ]
    }
   ],
   "source": [
    "def get_inputs():\n",
    "    \"\"\"\n",
    "    Create TF Placeholders for input, targets, and learning rate.\n",
    "    :return: Tuple (input, targets, learning rate)\n",
    "    \"\"\"\n",
    "    inputs = tf.placeholder(tf.int32, [None,None], name = \"input\")\n",
    "    targets = tf.placeholder(tf.int32, [None,None], name = \"targets\")\n",
    "    learning_rate = tf.placeholder(tf.float32, name =\"learning_rate\")\n",
    "    \n",
    "    return inputs,targets,learning_rate\n",
    "    \n",
    "\n",
    "\"\"\"\n",
    "DON'T MODIFY ANYTHING IN THIS CELL THAT IS BELOW THIS LINE\n",
    "\"\"\"\n",
    "tests.test_get_inputs(get_inputs)"
   ]
  },
  {
   "cell_type": "markdown",
   "metadata": {
    "deletable": true,
    "editable": true
   },
   "source": [
    "### Build RNN Cell and Initialize\n",
    "Stack one or more [`BasicLSTMCells`](https://www.tensorflow.org/api_docs/python/tf/contrib/rnn/BasicLSTMCell) in a [`MultiRNNCell`](https://www.tensorflow.org/api_docs/python/tf/contrib/rnn/MultiRNNCell).\n",
    "- The Rnn size should be set using `rnn_size`\n",
    "- Initalize Cell State using the MultiRNNCell's [`zero_state()`](https://www.tensorflow.org/api_docs/python/tf/contrib/rnn/MultiRNNCell#zero_state) function\n",
    "    - Apply the name \"initial_state\" to the initial state using [`tf.identity()`](https://www.tensorflow.org/api_docs/python/tf/identity)\n",
    "\n",
    "Return the cell and initial state in the following tuple `(Cell, InitialState)`"
   ]
  },
  {
   "cell_type": "code",
   "execution_count": 22,
   "metadata": {
    "collapsed": false,
    "deletable": true,
    "editable": true
   },
   "outputs": [
    {
     "name": "stdout",
     "output_type": "stream",
     "text": [
      "Tests Passed\n"
     ]
    }
   ],
   "source": [
    "def get_init_cell(batch_size, rnn_size):\n",
    "    \"\"\"\n",
    "    Create an RNN Cell and initialize it.\n",
    "    :param batch_size: Size of batches\n",
    "    :param rnn_size: Size of RNNs\n",
    "    :return: Tuple (cell, initialize state)\n",
    "    \"\"\"\n",
    "    basic_cell = tf.contrib.rnn.BasicLSTMCell(rnn_size)\n",
    "    basic_cell = tf.contrib.rnn.MultiRNNCell([basic_cell])\n",
    "    initial_state = tf.identity(basic_cell.zero_state(batch_size,tf.float32), name = \"initial_state\")\n",
    "    \n",
    "    return basic_cell, initial_state\n",
    "\n",
    "\n",
    "\"\"\"\n",
    "DON'T MODIFY ANYTHING IN THIS CELL THAT IS BELOW THIS LINE\n",
    "\"\"\"\n",
    "tests.test_get_init_cell(get_init_cell)"
   ]
  },
  {
   "cell_type": "markdown",
   "metadata": {
    "deletable": true,
    "editable": true
   },
   "source": [
    "### Word Embedding\n",
    "Apply embedding to `input_data` using TensorFlow.  Return the embedded sequence."
   ]
  },
  {
   "cell_type": "code",
   "execution_count": 23,
   "metadata": {
    "collapsed": false,
    "deletable": true,
    "editable": true
   },
   "outputs": [
    {
     "name": "stdout",
     "output_type": "stream",
     "text": [
      "Tests Passed\n"
     ]
    }
   ],
   "source": [
    "def get_embed(input_data, vocab_size, embed_dim):\n",
    "    \"\"\"\n",
    "    Create embedding for <input_data>.\n",
    "    :param input_data: TF placeholder for text input.\n",
    "    :param vocab_size: Number of words in vocabulary.\n",
    "    :param embed_dim: Number of embedding dimensions\n",
    "    :return: Embedded input.\n",
    "    \"\"\"\n",
    "    embedded_input = tf.Variable(tf.random_uniform((vocab_size, embed_dim),-1,1))\n",
    "    embedded_input = tf.nn.embedding_lookup(embedded_input, input_data)\n",
    "    return embedded_input\n",
    "\n",
    "\n",
    "\"\"\"\n",
    "DON'T MODIFY ANYTHING IN THIS CELL THAT IS BELOW THIS LINE\n",
    "\"\"\"\n",
    "tests.test_get_embed(get_embed)"
   ]
  },
  {
   "cell_type": "markdown",
   "metadata": {
    "deletable": true,
    "editable": true
   },
   "source": [
    "### Build RNN\n",
    "You created a RNN Cell in the `get_init_cell()` function.  Time to use the cell to create a RNN.\n",
    "- Build the RNN using the [`tf.nn.dynamic_rnn()`](https://www.tensorflow.org/api_docs/python/tf/nn/dynamic_rnn)\n",
    " - Apply the name \"final_state\" to the final state using [`tf.identity()`](https://www.tensorflow.org/api_docs/python/tf/identity)\n",
    "\n",
    "Return the outputs and final_state state in the following tuple `(Outputs, FinalState)` "
   ]
  },
  {
   "cell_type": "code",
   "execution_count": 24,
   "metadata": {
    "collapsed": false,
    "deletable": true,
    "editable": true
   },
   "outputs": [
    {
     "name": "stdout",
     "output_type": "stream",
     "text": [
      "Tests Passed\n"
     ]
    }
   ],
   "source": [
    "def build_rnn(cell, inputs):\n",
    "    \"\"\"\n",
    "    Create a RNN using a RNN Cell\n",
    "    :param cell: RNN Cell\n",
    "    :param inputs: Input text data\n",
    "    :return: Tuple (Outputs, Final State)\n",
    "    \"\"\"\n",
    "    outputs, final_state = tf.nn.dynamic_rnn(cell, inputs, dtype = tf.float32)\n",
    "    final_state = tf.identity(final_state, name =\"final_state\")\n",
    "    \n",
    "    return outputs, final_state\n",
    "\n",
    "\n",
    "\"\"\"\n",
    "DON'T MODIFY ANYTHING IN THIS CELL THAT IS BELOW THIS LINE\n",
    "\"\"\"\n",
    "tests.test_build_rnn(build_rnn)"
   ]
  },
  {
   "cell_type": "markdown",
   "metadata": {
    "deletable": true,
    "editable": true
   },
   "source": [
    "### Build the Neural Network\n",
    "Apply the functions you implemented above to:\n",
    "- Apply embedding to `input_data` using your `get_embed(input_data, vocab_size, embed_dim)` function.\n",
    "- Build RNN using `cell` and your `build_rnn(cell, inputs)` function.\n",
    "- Apply a fully connected layer with a linear activation and `vocab_size` as the number of outputs.\n",
    "\n",
    "Return the logits and final state in the following tuple (Logits, FinalState) "
   ]
  },
  {
   "cell_type": "code",
   "execution_count": 26,
   "metadata": {
    "collapsed": false,
    "deletable": true,
    "editable": true
   },
   "outputs": [
    {
     "name": "stdout",
     "output_type": "stream",
     "text": [
      "Tests Passed\n"
     ]
    }
   ],
   "source": [
    "def build_nn(cell, rnn_size, input_data, vocab_size):\n",
    "    \"\"\"\n",
    "    Build part of the neural network\n",
    "    :param cell: RNN cell\n",
    "    :param rnn_size: Size of rnns\n",
    "    :param input_data: Input data\n",
    "    :param vocab_size: Vocabulary size\n",
    "    :return: Tuple (Logits, FinalState)\n",
    "    \"\"\"\n",
    "    embedded = get_embed(input_data, vocab_size, rnn_size)\n",
    "    outputs, final_state = build_rnn(cell, embedded)\n",
    "    logits = tf.contrib.layers.fully_connected(outputs,vocab_size,activation_fn = None)\n",
    "    \n",
    "    return logits, final_state\n",
    "\n",
    "\n",
    "\"\"\"\n",
    "DON'T MODIFY ANYTHING IN THIS CELL THAT IS BELOW THIS LINE\n",
    "\"\"\"\n",
    "tests.test_build_nn(build_nn)"
   ]
  },
  {
   "cell_type": "markdown",
   "metadata": {
    "deletable": true,
    "editable": true
   },
   "source": [
    "### Batches\n",
    "Implement `get_batches` to create batches of input and targets using `int_text`.  The batches should be a Numpy array with the shape `(number of batches, 2, batch size, sequence length)`. Each batch contains two elements:\n",
    "- The first element is a single batch of **input** with the shape `[batch size, sequence length]`\n",
    "- The second element is a single batch of **targets** with the shape `[batch size, sequence length]`\n",
    "\n",
    "If you can't fill the last batch with enough data, drop the last batch.\n",
    "\n",
    "For exmple, `get_batches([1, 2, 3, 4, 5, 6, 7, 8, 9, 10, 11, 12, 13, 14, 15], 2, 3)` would return a Numpy array of the following:\n",
    "```\n",
    "[\n",
    "  # First Batch\n",
    "  [\n",
    "    # Batch of Input\n",
    "    [[ 1  2  3], [ 7  8  9]],\n",
    "    # Batch of targets\n",
    "    [[ 2  3  4], [ 8  9 10]]\n",
    "  ],\n",
    " \n",
    "  # Second Batch\n",
    "  [\n",
    "    # Batch of Input\n",
    "    [[ 4  5  6], [10 11 12]],\n",
    "    # Batch of targets\n",
    "    [[ 5  6  7], [11 12 13]]\n",
    "  ]\n",
    "]\n",
    "```"
   ]
  },
  {
   "cell_type": "code",
   "execution_count": 28,
   "metadata": {
    "collapsed": false,
    "deletable": true,
    "editable": true
   },
   "outputs": [
    {
     "name": "stdout",
     "output_type": "stream",
     "text": [
      "Tests Passed\n"
     ]
    }
   ],
   "source": [
    "def get_batches(int_text, batch_size, seq_length):\n",
    "    \"\"\"\n",
    "    Return batches of input and target\n",
    "    :param int_text: Text with the words replaced by their ids\n",
    "    :param batch_size: The size of batch\n",
    "    :param seq_length: The length of sequence\n",
    "    :return: Batches as a Numpy array\n",
    "    \"\"\"\n",
    "    n_batches = int(len(int_text) / (batch_size * seq_length))\n",
    "\n",
    "    # Drop the last few characters to make only full batches\n",
    "    xdata = np.array(int_text[: n_batches * batch_size * seq_length])\n",
    "    ydata = np.array(int_text[1: n_batches * batch_size * seq_length + 1])\n",
    "    \n",
    "    x_batches = np.split(xdata.reshape(batch_size, -1), n_batches, 1)\n",
    "    y_batches = np.split(ydata.reshape(batch_size, -1), n_batches, 1)\n",
    "    \n",
    "    return np.asarray(list(zip(x_batches, y_batches)))\n",
    "\n",
    "\n",
    "\n",
    "\"\"\"\n",
    "DON'T MODIFY ANYTHING IN THIS CELL THAT IS BELOW THIS LINE\n",
    "\"\"\"\n",
    "tests.test_get_batches(get_batches)"
   ]
  },
  {
   "cell_type": "markdown",
   "metadata": {
    "deletable": true,
    "editable": true
   },
   "source": [
    "## Neural Network Training\n",
    "### Hyperparameters\n",
    "Tune the following parameters:\n",
    "\n",
    "- Set `num_epochs` to the number of epochs.\n",
    "- Set `batch_size` to the batch size.\n",
    "- Set `rnn_size` to the size of the RNNs.\n",
    "- Set `seq_length` to the length of sequence.\n",
    "- Set `learning_rate` to the learning rate.\n",
    "- Set `show_every_n_batches` to the number of batches the neural network should print progress."
   ]
  },
  {
   "cell_type": "code",
   "execution_count": 43,
   "metadata": {
    "collapsed": true,
    "deletable": true,
    "editable": true
   },
   "outputs": [],
   "source": [
    "# Number of Epochs\n",
    "num_epochs = 500\n",
    "# Batch Size\n",
    "batch_size = 100\n",
    "# RNN Size\n",
    "rnn_size = 200\n",
    "# Sequence Length\n",
    "seq_length = 16\n",
    "# Learning Rate\n",
    "learning_rate = 0.001\n",
    "# Show stats for every n number of batches\n",
    "show_every_n_batches = 100\n",
    "\n",
    "\"\"\"\n",
    "DON'T MODIFY ANYTHING IN THIS CELL THAT IS BELOW THIS LINE\n",
    "\"\"\"\n",
    "save_dir = './save'"
   ]
  },
  {
   "cell_type": "markdown",
   "metadata": {
    "deletable": true,
    "editable": true
   },
   "source": [
    "### Build the Graph\n",
    "Build the graph using the neural network you implemented."
   ]
  },
  {
   "cell_type": "code",
   "execution_count": 44,
   "metadata": {
    "collapsed": false,
    "deletable": true,
    "editable": true
   },
   "outputs": [],
   "source": [
    "\"\"\"\n",
    "DON'T MODIFY ANYTHING IN THIS CELL\n",
    "\"\"\"\n",
    "from tensorflow.contrib import seq2seq\n",
    "\n",
    "train_graph = tf.Graph()\n",
    "with train_graph.as_default():\n",
    "    vocab_size = len(int_to_vocab)\n",
    "    input_text, targets, lr = get_inputs()\n",
    "    input_data_shape = tf.shape(input_text)\n",
    "    cell, initial_state = get_init_cell(input_data_shape[0], rnn_size)\n",
    "    logits, final_state = build_nn(cell, rnn_size, input_text, vocab_size)\n",
    "\n",
    "    # Probabilities for generating words\n",
    "    probs = tf.nn.softmax(logits, name='probs')\n",
    "\n",
    "    # Loss function\n",
    "    cost = seq2seq.sequence_loss(\n",
    "        logits,\n",
    "        targets,\n",
    "        tf.ones([input_data_shape[0], input_data_shape[1]]))\n",
    "\n",
    "    # Optimizer\n",
    "    optimizer = tf.train.AdamOptimizer(lr)\n",
    "\n",
    "    # Gradient Clipping\n",
    "    gradients = optimizer.compute_gradients(cost)\n",
    "    capped_gradients = [(tf.clip_by_value(grad, -1., 1.), var) for grad, var in gradients]\n",
    "    train_op = optimizer.apply_gradients(capped_gradients)"
   ]
  },
  {
   "cell_type": "markdown",
   "metadata": {
    "deletable": true,
    "editable": true
   },
   "source": [
    "## Train\n",
    "Train the neural network on the preprocessed data.  If you have a hard time getting a good loss, check the [forms](https://discussions.udacity.com/) to see if anyone is having the same problem."
   ]
  },
  {
   "cell_type": "code",
   "execution_count": 45,
   "metadata": {
    "collapsed": false,
    "deletable": true,
    "editable": true
   },
   "outputs": [
    {
     "name": "stdout",
     "output_type": "stream",
     "text": [
      "Epoch   0 Batch    0/43   train_loss = 8.822\n",
      "Epoch   2 Batch   14/43   train_loss = 5.868\n",
      "Epoch   4 Batch   28/43   train_loss = 5.393\n",
      "Epoch   6 Batch   42/43   train_loss = 5.073\n",
      "Epoch   9 Batch   13/43   train_loss = 4.749\n",
      "Epoch  11 Batch   27/43   train_loss = 4.630\n",
      "Epoch  13 Batch   41/43   train_loss = 4.401\n",
      "Epoch  16 Batch   12/43   train_loss = 4.217\n",
      "Epoch  18 Batch   26/43   train_loss = 4.209\n",
      "Epoch  20 Batch   40/43   train_loss = 3.957\n",
      "Epoch  23 Batch   11/43   train_loss = 3.888\n",
      "Epoch  25 Batch   25/43   train_loss = 3.689\n",
      "Epoch  27 Batch   39/43   train_loss = 3.713\n",
      "Epoch  30 Batch   10/43   train_loss = 3.566\n",
      "Epoch  32 Batch   24/43   train_loss = 3.460\n",
      "Epoch  34 Batch   38/43   train_loss = 3.396\n",
      "Epoch  37 Batch    9/43   train_loss = 3.279\n",
      "Epoch  39 Batch   23/43   train_loss = 3.292\n",
      "Epoch  41 Batch   37/43   train_loss = 3.095\n",
      "Epoch  44 Batch    8/43   train_loss = 3.039\n",
      "Epoch  46 Batch   22/43   train_loss = 3.061\n",
      "Epoch  48 Batch   36/43   train_loss = 2.916\n",
      "Epoch  51 Batch    7/43   train_loss = 2.854\n",
      "Epoch  53 Batch   21/43   train_loss = 2.803\n",
      "Epoch  55 Batch   35/43   train_loss = 2.652\n",
      "Epoch  58 Batch    6/43   train_loss = 2.637\n",
      "Epoch  60 Batch   20/43   train_loss = 2.654\n",
      "Epoch  62 Batch   34/43   train_loss = 2.521\n",
      "Epoch  65 Batch    5/43   train_loss = 2.507\n",
      "Epoch  67 Batch   19/43   train_loss = 2.404\n",
      "Epoch  69 Batch   33/43   train_loss = 2.294\n",
      "Epoch  72 Batch    4/43   train_loss = 2.301\n",
      "Epoch  74 Batch   18/43   train_loss = 2.249\n",
      "Epoch  76 Batch   32/43   train_loss = 2.172\n",
      "Epoch  79 Batch    3/43   train_loss = 2.101\n",
      "Epoch  81 Batch   17/43   train_loss = 2.135\n",
      "Epoch  83 Batch   31/43   train_loss = 2.074\n",
      "Epoch  86 Batch    2/43   train_loss = 1.933\n",
      "Epoch  88 Batch   16/43   train_loss = 1.916\n",
      "Epoch  90 Batch   30/43   train_loss = 1.969\n",
      "Epoch  93 Batch    1/43   train_loss = 1.827\n",
      "Epoch  95 Batch   15/43   train_loss = 1.816\n",
      "Epoch  97 Batch   29/43   train_loss = 1.709\n",
      "Epoch 100 Batch    0/43   train_loss = 1.734\n",
      "Epoch 102 Batch   14/43   train_loss = 1.813\n",
      "Epoch 104 Batch   28/43   train_loss = 1.656\n",
      "Epoch 106 Batch   42/43   train_loss = 1.590\n",
      "Epoch 109 Batch   13/43   train_loss = 1.533\n",
      "Epoch 111 Batch   27/43   train_loss = 1.530\n",
      "Epoch 113 Batch   41/43   train_loss = 1.507\n",
      "Epoch 116 Batch   12/43   train_loss = 1.457\n",
      "Epoch 118 Batch   26/43   train_loss = 1.424\n",
      "Epoch 120 Batch   40/43   train_loss = 1.420\n",
      "Epoch 123 Batch   11/43   train_loss = 1.361\n",
      "Epoch 125 Batch   25/43   train_loss = 1.335\n",
      "Epoch 127 Batch   39/43   train_loss = 1.286\n",
      "Epoch 130 Batch   10/43   train_loss = 1.309\n",
      "Epoch 132 Batch   24/43   train_loss = 1.172\n",
      "Epoch 134 Batch   38/43   train_loss = 1.141\n",
      "Epoch 137 Batch    9/43   train_loss = 1.128\n",
      "Epoch 139 Batch   23/43   train_loss = 1.165\n",
      "Epoch 141 Batch   37/43   train_loss = 1.105\n",
      "Epoch 144 Batch    8/43   train_loss = 1.082\n",
      "Epoch 146 Batch   22/43   train_loss = 1.110\n",
      "Epoch 148 Batch   36/43   train_loss = 1.086\n",
      "Epoch 151 Batch    7/43   train_loss = 1.057\n",
      "Epoch 153 Batch   21/43   train_loss = 1.058\n",
      "Epoch 155 Batch   35/43   train_loss = 0.980\n",
      "Epoch 158 Batch    6/43   train_loss = 0.960\n",
      "Epoch 160 Batch   20/43   train_loss = 1.019\n",
      "Epoch 162 Batch   34/43   train_loss = 0.887\n",
      "Epoch 165 Batch    5/43   train_loss = 0.916\n",
      "Epoch 167 Batch   19/43   train_loss = 0.904\n",
      "Epoch 169 Batch   33/43   train_loss = 0.799\n",
      "Epoch 172 Batch    4/43   train_loss = 0.858\n",
      "Epoch 174 Batch   18/43   train_loss = 0.748\n",
      "Epoch 176 Batch   32/43   train_loss = 0.776\n",
      "Epoch 179 Batch    3/43   train_loss = 0.785\n",
      "Epoch 181 Batch   17/43   train_loss = 0.809\n",
      "Epoch 183 Batch   31/43   train_loss = 0.765\n",
      "Epoch 186 Batch    2/43   train_loss = 0.722\n",
      "Epoch 188 Batch   16/43   train_loss = 0.722\n",
      "Epoch 190 Batch   30/43   train_loss = 0.735\n",
      "Epoch 193 Batch    1/43   train_loss = 0.666\n",
      "Epoch 195 Batch   15/43   train_loss = 0.685\n",
      "Epoch 197 Batch   29/43   train_loss = 0.609\n",
      "Epoch 200 Batch    0/43   train_loss = 0.672\n",
      "Epoch 202 Batch   14/43   train_loss = 0.690\n",
      "Epoch 204 Batch   28/43   train_loss = 0.624\n",
      "Epoch 206 Batch   42/43   train_loss = 0.606\n",
      "Epoch 209 Batch   13/43   train_loss = 0.601\n",
      "Epoch 211 Batch   27/43   train_loss = 0.572\n",
      "Epoch 213 Batch   41/43   train_loss = 0.597\n",
      "Epoch 216 Batch   12/43   train_loss = 0.551\n",
      "Epoch 218 Batch   26/43   train_loss = 0.578\n",
      "Epoch 220 Batch   40/43   train_loss = 0.563\n",
      "Epoch 223 Batch   11/43   train_loss = 0.515\n",
      "Epoch 225 Batch   25/43   train_loss = 0.549\n",
      "Epoch 227 Batch   39/43   train_loss = 0.531\n",
      "Epoch 230 Batch   10/43   train_loss = 0.558\n",
      "Epoch 232 Batch   24/43   train_loss = 0.491\n",
      "Epoch 234 Batch   38/43   train_loss = 0.492\n",
      "Epoch 237 Batch    9/43   train_loss = 0.477\n",
      "Epoch 239 Batch   23/43   train_loss = 0.488\n",
      "Epoch 241 Batch   37/43   train_loss = 0.465\n",
      "Epoch 244 Batch    8/43   train_loss = 0.443\n",
      "Epoch 246 Batch   22/43   train_loss = 0.481\n",
      "Epoch 248 Batch   36/43   train_loss = 0.507\n",
      "Epoch 251 Batch    7/43   train_loss = 0.456\n",
      "Epoch 253 Batch   21/43   train_loss = 0.491\n",
      "Epoch 255 Batch   35/43   train_loss = 0.424\n",
      "Epoch 258 Batch    6/43   train_loss = 0.426\n",
      "Epoch 260 Batch   20/43   train_loss = 0.455\n",
      "Epoch 262 Batch   34/43   train_loss = 0.397\n",
      "Epoch 265 Batch    5/43   train_loss = 0.406\n",
      "Epoch 267 Batch   19/43   train_loss = 0.407\n",
      "Epoch 269 Batch   33/43   train_loss = 0.360\n",
      "Epoch 272 Batch    4/43   train_loss = 0.386\n",
      "Epoch 274 Batch   18/43   train_loss = 0.331\n",
      "Epoch 276 Batch   32/43   train_loss = 0.362\n",
      "Epoch 279 Batch    3/43   train_loss = 0.360\n",
      "Epoch 281 Batch   17/43   train_loss = 0.365\n",
      "Epoch 283 Batch   31/43   train_loss = 0.362\n",
      "Epoch 286 Batch    2/43   train_loss = 0.332\n",
      "Epoch 288 Batch   16/43   train_loss = 0.346\n",
      "Epoch 290 Batch   30/43   train_loss = 0.344\n",
      "Epoch 293 Batch    1/43   train_loss = 0.341\n",
      "Epoch 295 Batch   15/43   train_loss = 0.347\n",
      "Epoch 297 Batch   29/43   train_loss = 0.302\n",
      "Epoch 300 Batch    0/43   train_loss = 0.321\n",
      "Epoch 302 Batch   14/43   train_loss = 0.337\n",
      "Epoch 304 Batch   28/43   train_loss = 0.314\n",
      "Epoch 306 Batch   42/43   train_loss = 0.296\n",
      "Epoch 309 Batch   13/43   train_loss = 0.297\n",
      "Epoch 311 Batch   27/43   train_loss = 0.289\n",
      "Epoch 313 Batch   41/43   train_loss = 0.288\n",
      "Epoch 316 Batch   12/43   train_loss = 0.256\n",
      "Epoch 318 Batch   26/43   train_loss = 0.293\n",
      "Epoch 320 Batch   40/43   train_loss = 0.276\n",
      "Epoch 323 Batch   11/43   train_loss = 0.232\n",
      "Epoch 325 Batch   25/43   train_loss = 0.285\n",
      "Epoch 327 Batch   39/43   train_loss = 0.269\n",
      "Epoch 330 Batch   10/43   train_loss = 0.278\n",
      "Epoch 332 Batch   24/43   train_loss = 0.259\n",
      "Epoch 334 Batch   38/43   train_loss = 0.251\n",
      "Epoch 337 Batch    9/43   train_loss = 0.242\n",
      "Epoch 339 Batch   23/43   train_loss = 0.249\n",
      "Epoch 341 Batch   37/43   train_loss = 0.244\n",
      "Epoch 344 Batch    8/43   train_loss = 0.231\n",
      "Epoch 346 Batch   22/43   train_loss = 0.258\n",
      "Epoch 348 Batch   36/43   train_loss = 0.274\n",
      "Epoch 351 Batch    7/43   train_loss = 0.255\n",
      "Epoch 353 Batch   21/43   train_loss = 0.271\n",
      "Epoch 355 Batch   35/43   train_loss = 0.248\n",
      "Epoch 358 Batch    6/43   train_loss = 0.238\n",
      "Epoch 360 Batch   20/43   train_loss = 0.274\n",
      "Epoch 362 Batch   34/43   train_loss = 0.249\n",
      "Epoch 365 Batch    5/43   train_loss = 0.262\n",
      "Epoch 367 Batch   19/43   train_loss = 0.261\n",
      "Epoch 369 Batch   33/43   train_loss = 0.226\n",
      "Epoch 372 Batch    4/43   train_loss = 0.245\n",
      "Epoch 374 Batch   18/43   train_loss = 0.229\n",
      "Epoch 376 Batch   32/43   train_loss = 0.249\n",
      "Epoch 379 Batch    3/43   train_loss = 0.244\n",
      "Epoch 381 Batch   17/43   train_loss = 0.226\n",
      "Epoch 383 Batch   31/43   train_loss = 0.227\n",
      "Epoch 386 Batch    2/43   train_loss = 0.223\n",
      "Epoch 388 Batch   16/43   train_loss = 0.233\n",
      "Epoch 390 Batch   30/43   train_loss = 0.227\n",
      "Epoch 393 Batch    1/43   train_loss = 0.236\n",
      "Epoch 395 Batch   15/43   train_loss = 0.231\n",
      "Epoch 397 Batch   29/43   train_loss = 0.208\n",
      "Epoch 400 Batch    0/43   train_loss = 0.223\n",
      "Epoch 402 Batch   14/43   train_loss = 0.246\n",
      "Epoch 404 Batch   28/43   train_loss = 0.231\n",
      "Epoch 406 Batch   42/43   train_loss = 0.220\n",
      "Epoch 409 Batch   13/43   train_loss = 0.219\n",
      "Epoch 411 Batch   27/43   train_loss = 0.219\n",
      "Epoch 413 Batch   41/43   train_loss = 0.218\n",
      "Epoch 416 Batch   12/43   train_loss = 0.198\n",
      "Epoch 418 Batch   26/43   train_loss = 0.228\n",
      "Epoch 420 Batch   40/43   train_loss = 0.212\n",
      "Epoch 423 Batch   11/43   train_loss = 0.178\n",
      "Epoch 425 Batch   25/43   train_loss = 0.233\n",
      "Epoch 427 Batch   39/43   train_loss = 0.206\n",
      "Epoch 430 Batch   10/43   train_loss = 0.223\n",
      "Epoch 432 Batch   24/43   train_loss = 0.222\n",
      "Epoch 434 Batch   38/43   train_loss = 0.208\n",
      "Epoch 437 Batch    9/43   train_loss = 0.200\n",
      "Epoch 439 Batch   23/43   train_loss = 0.204\n",
      "Epoch 441 Batch   37/43   train_loss = 0.197\n",
      "Epoch 444 Batch    8/43   train_loss = 0.191\n",
      "Epoch 446 Batch   22/43   train_loss = 0.223\n",
      "Epoch 448 Batch   36/43   train_loss = 0.229\n",
      "Epoch 451 Batch    7/43   train_loss = 0.212\n",
      "Epoch 453 Batch   21/43   train_loss = 0.225\n",
      "Epoch 455 Batch   35/43   train_loss = 0.216\n",
      "Epoch 458 Batch    6/43   train_loss = 0.205\n",
      "Epoch 460 Batch   20/43   train_loss = 0.241\n",
      "Epoch 462 Batch   34/43   train_loss = 0.217\n",
      "Epoch 465 Batch    5/43   train_loss = 0.231\n",
      "Epoch 467 Batch   19/43   train_loss = 0.234\n",
      "Epoch 469 Batch   33/43   train_loss = 0.201\n",
      "Epoch 472 Batch    4/43   train_loss = 0.206\n",
      "Epoch 474 Batch   18/43   train_loss = 0.200\n",
      "Epoch 476 Batch   32/43   train_loss = 0.215\n",
      "Epoch 479 Batch    3/43   train_loss = 0.209\n",
      "Epoch 481 Batch   17/43   train_loss = 0.199\n",
      "Epoch 483 Batch   31/43   train_loss = 0.201\n",
      "Epoch 486 Batch    2/43   train_loss = 0.207\n",
      "Epoch 488 Batch   16/43   train_loss = 0.209\n",
      "Epoch 490 Batch   30/43   train_loss = 0.206\n",
      "Epoch 493 Batch    1/43   train_loss = 0.221\n",
      "Epoch 495 Batch   15/43   train_loss = 0.213\n",
      "Epoch 497 Batch   29/43   train_loss = 0.199\n",
      "Model Trained and Saved\n"
     ]
    }
   ],
   "source": [
    "\"\"\"\n",
    "DON'T MODIFY ANYTHING IN THIS CELL\n",
    "\"\"\"\n",
    "batches = get_batches(int_text, batch_size, seq_length)\n",
    "\n",
    "with tf.Session(graph=train_graph) as sess:\n",
    "    sess.run(tf.global_variables_initializer())\n",
    "\n",
    "    for epoch_i in range(num_epochs):\n",
    "        state = sess.run(initial_state, {input_text: batches[0][0]})\n",
    "\n",
    "        for batch_i, (x, y) in enumerate(batches):\n",
    "            feed = {\n",
    "                input_text: x,\n",
    "                targets: y,\n",
    "                initial_state: state,\n",
    "                lr: learning_rate}\n",
    "            train_loss, state, _ = sess.run([cost, final_state, train_op], feed)\n",
    "\n",
    "            # Show every <show_every_n_batches> batches\n",
    "            if (epoch_i * len(batches) + batch_i) % show_every_n_batches == 0:\n",
    "                print('Epoch {:>3} Batch {:>4}/{}   train_loss = {:.3f}'.format(\n",
    "                    epoch_i,\n",
    "                    batch_i,\n",
    "                    len(batches),\n",
    "                    train_loss))\n",
    "\n",
    "    # Save Model\n",
    "    saver = tf.train.Saver()\n",
    "    saver.save(sess, save_dir)\n",
    "    print('Model Trained and Saved')"
   ]
  },
  {
   "cell_type": "markdown",
   "metadata": {
    "deletable": true,
    "editable": true
   },
   "source": [
    "## Save Parameters\n",
    "Save `seq_length` and `save_dir` for generating a new TV script."
   ]
  },
  {
   "cell_type": "code",
   "execution_count": 46,
   "metadata": {
    "collapsed": false,
    "deletable": true,
    "editable": true
   },
   "outputs": [],
   "source": [
    "\"\"\"\n",
    "DON'T MODIFY ANYTHING IN THIS CELL\n",
    "\"\"\"\n",
    "# Save parameters for checkpoint\n",
    "helper.save_params((seq_length, save_dir))"
   ]
  },
  {
   "cell_type": "markdown",
   "metadata": {
    "deletable": true,
    "editable": true
   },
   "source": [
    "# Checkpoint"
   ]
  },
  {
   "cell_type": "code",
   "execution_count": 47,
   "metadata": {
    "collapsed": false,
    "deletable": true,
    "editable": true
   },
   "outputs": [],
   "source": [
    "\"\"\"\n",
    "DON'T MODIFY ANYTHING IN THIS CELL\n",
    "\"\"\"\n",
    "import tensorflow as tf\n",
    "import numpy as np\n",
    "import helper\n",
    "import problem_unittests as tests\n",
    "\n",
    "_, vocab_to_int, int_to_vocab, token_dict = helper.load_preprocess()\n",
    "seq_length, load_dir = helper.load_params()"
   ]
  },
  {
   "cell_type": "markdown",
   "metadata": {
    "deletable": true,
    "editable": true
   },
   "source": [
    "## Implement Generate Functions\n",
    "### Get Tensors\n",
    "Get tensors from `loaded_graph` using the function [`get_tensor_by_name()`](https://www.tensorflow.org/api_docs/python/tf/Graph#get_tensor_by_name).  Get the tensors using the following names:\n",
    "- \"input:0\"\n",
    "- \"initial_state:0\"\n",
    "- \"final_state:0\"\n",
    "- \"probs:0\"\n",
    "\n",
    "Return the tensors in the following tuple `(InputTensor, InitialStateTensor, FinalStateTensor, ProbsTensor)` "
   ]
  },
  {
   "cell_type": "code",
   "execution_count": 48,
   "metadata": {
    "collapsed": false,
    "deletable": true,
    "editable": true
   },
   "outputs": [
    {
     "name": "stdout",
     "output_type": "stream",
     "text": [
      "Tests Passed\n"
     ]
    }
   ],
   "source": [
    "def get_tensors(loaded_graph):\n",
    "    \"\"\"\n",
    "    Get input, initial state, final state, and probabilities tensor from <loaded_graph>\n",
    "    :param loaded_graph: TensorFlow graph loaded from file\n",
    "    :return: Tuple (InputTensor, InitialStateTensor, FinalStateTensor, ProbsTensor)\n",
    "    \"\"\"\n",
    "    InputTensor= loaded_graph.get_tensor_by_name(\"input:0\")\n",
    "    InitialStateTensor = loaded_graph.get_tensor_by_name(\"initial_state:0\")\n",
    "    FinalStateTensor = loaded_graph.get_tensor_by_name(\"final_state:0\")\n",
    "    ProbsTensor = loaded_graph.get_tensor_by_name(\"probs:0\")\n",
    "    \n",
    "    return InputTensor,InitialStateTensor,FinalStateTensor,ProbsTensor\n",
    "\n",
    "\n",
    "\"\"\"\n",
    "DON'T MODIFY ANYTHING IN THIS CELL THAT IS BELOW THIS LINE\n",
    "\"\"\"\n",
    "tests.test_get_tensors(get_tensors)"
   ]
  },
  {
   "cell_type": "markdown",
   "metadata": {
    "deletable": true,
    "editable": true
   },
   "source": [
    "### Choose Word\n",
    "Implement the `pick_word()` function to select the next word using `probabilities`."
   ]
  },
  {
   "cell_type": "code",
   "execution_count": 49,
   "metadata": {
    "collapsed": false,
    "deletable": true,
    "editable": true
   },
   "outputs": [
    {
     "name": "stdout",
     "output_type": "stream",
     "text": [
      "Tests Passed\n"
     ]
    }
   ],
   "source": [
    "def pick_word(probabilities, int_to_vocab):\n",
    "    \"\"\"\n",
    "    Pick the next word in the generated text\n",
    "    :param probabilities: Probabilites of the next word\n",
    "    :param int_to_vocab: Dictionary of word ids as the keys and words as the values\n",
    "    :return: String of the predicted word\n",
    "    \"\"\"\n",
    "    return np.random.choice(list(int_to_vocab.values()), 1, p=probabilities)[0]\n",
    "\n",
    "\n",
    "\"\"\"\n",
    "DON'T MODIFY ANYTHING IN THIS CELL THAT IS BELOW THIS LINE\n",
    "\"\"\"\n",
    "tests.test_pick_word(pick_word)"
   ]
  },
  {
   "cell_type": "markdown",
   "metadata": {
    "deletable": true,
    "editable": true
   },
   "source": [
    "## Generate TV Script\n",
    "This will generate the TV script for you.  Set `gen_length` to the length of TV script you want to generate."
   ]
  },
  {
   "cell_type": "code",
   "execution_count": 50,
   "metadata": {
    "collapsed": false,
    "deletable": true,
    "editable": true
   },
   "outputs": [
    {
     "name": "stdout",
     "output_type": "stream",
     "text": [
      "moe_szyslak: okay now, that's my fourth grade teacher!\n",
      "teenage_bart: hi, mrs. k... ah-ha!\n",
      "announcer: coming up and, please.\n",
      "jacques: not at the last time. but uh...\n",
      "moe_szyslak: hey! hey maggie! / with the leprechaun.\n",
      "homer_simpson: you dirty teen.\n",
      "moe_szyslak:(hopeful) it does your first place. i'm on a beer?\n",
      "moe_szyslak:(looking up)\n",
      "johnny_carson: now, i can't believe someone to forget your problems...\n",
      "moe_szyslak: here you go, homer. don't feel bad. let me in the way.\n",
      "stillwater:(beat) okay, let's say.\n",
      "\n",
      "\n",
      "moe_szyslak: what's wrong here, please. i'll straighten ya down) he does he just got the looks of this high.\n",
      "moe_szyslak:(annoyed) moe, i am dead down, homer a worthless sack of...\n",
      "homer_simpson: i'm sorry, moe...(points to door)\n",
      "\n",
      "\n",
      "lenny_leonard: whatcha doin', a chick!\n",
      "moe_szyslak:...\n"
     ]
    }
   ],
   "source": [
    "gen_length = 200\n",
    "# homer_simpson, moe_szyslak, or Barney_Gumble\n",
    "prime_word = 'moe_szyslak'\n",
    "\n",
    "\"\"\"\n",
    "DON'T MODIFY ANYTHING IN THIS CELL THAT IS BELOW THIS LINE\n",
    "\"\"\"\n",
    "loaded_graph = tf.Graph()\n",
    "with tf.Session(graph=loaded_graph) as sess:\n",
    "    # Load saved model\n",
    "    loader = tf.train.import_meta_graph(load_dir + '.meta')\n",
    "    loader.restore(sess, load_dir)\n",
    "\n",
    "    # Get Tensors from loaded model\n",
    "    input_text, initial_state, final_state, probs = get_tensors(loaded_graph)\n",
    "\n",
    "    # Sentences generation setup\n",
    "    gen_sentences = [prime_word + ':']\n",
    "    prev_state = sess.run(initial_state, {input_text: np.array([[1]])})\n",
    "\n",
    "    # Generate sentences\n",
    "    for n in range(gen_length):\n",
    "        # Dynamic Input\n",
    "        dyn_input = [[vocab_to_int[word] for word in gen_sentences[-seq_length:]]]\n",
    "        dyn_seq_length = len(dyn_input[0])\n",
    "\n",
    "        # Get Prediction\n",
    "        probabilities, prev_state = sess.run(\n",
    "            [probs, final_state],\n",
    "            {input_text: dyn_input, initial_state: prev_state})\n",
    "        \n",
    "        pred_word = pick_word(probabilities[dyn_seq_length-1], int_to_vocab)\n",
    "\n",
    "        gen_sentences.append(pred_word)\n",
    "    \n",
    "    # Remove tokens\n",
    "    tv_script = ' '.join(gen_sentences)\n",
    "    for key, token in token_dict.items():\n",
    "        ending = ' ' if key in ['\\n', '(', '\"'] else ''\n",
    "        tv_script = tv_script.replace(' ' + token.lower(), key)\n",
    "    tv_script = tv_script.replace('\\n ', '\\n')\n",
    "    tv_script = tv_script.replace('( ', '(')\n",
    "        \n",
    "    print(tv_script)"
   ]
  },
  {
   "cell_type": "markdown",
   "metadata": {
    "deletable": true,
    "editable": true
   },
   "source": [
    "# The TV Script is Nonsensical\n",
    "It's ok if the TV script doesn't make any sense.  We trained on less than a megabyte of text.  In order to get good results, you'll have to use a smaller vocabulary or get more data.  Luckly there's more data!  As we mentioned in the begging of this project, this is a subset of [another dataset](https://www.kaggle.com/wcukierski/the-simpsons-by-the-data).  We didn't have you train on all the data, because that would take too long.  However, you are free to train your neural network on all the data.  After you complete the project, of course.\n",
    "# Submitting This Project\n",
    "When submitting this project, make sure to run all the cells before saving the notebook. Save the notebook file as \"dlnd_tv_script_generation.ipynb\" and save it as a HTML file under \"File\" -> \"Download as\". Include the \"helper.py\" and \"problem_unittests.py\" files in your submission."
   ]
  }
 ],
 "metadata": {
  "kernelspec": {
   "display_name": "Python 3",
   "language": "python",
   "name": "python3"
  },
  "language_info": {
   "codemirror_mode": {
    "name": "ipython",
    "version": 3
   },
   "file_extension": ".py",
   "mimetype": "text/x-python",
   "name": "python",
   "nbconvert_exporter": "python",
   "pygments_lexer": "ipython3",
   "version": "3.5.3"
  }
 },
 "nbformat": 4,
 "nbformat_minor": 0
}
